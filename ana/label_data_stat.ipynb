{
 "cells": [
  {
   "cell_type": "code",
   "execution_count": 3,
   "metadata": {},
   "outputs": [],
   "source": [
    "import pandas as pd\n",
    "from pathlib import Path"
   ]
  },
  {
   "cell_type": "code",
   "execution_count": 9,
   "metadata": {},
   "outputs": [],
   "source": [
    "label_data_path = Path.cwd().parent.joinpath('data', 'label_data.pkl')"
   ]
  },
  {
   "cell_type": "code",
   "execution_count": 5,
   "metadata": {},
   "outputs": [],
   "source": [
    "label_df = pd.read_pickle(label_data_path)"
   ]
  },
  {
   "cell_type": "code",
   "execution_count": 6,
   "metadata": {},
   "outputs": [
    {
     "data": {
      "text/plain": [
       "Ecosystem\n",
       "npm          5477\n",
       "pypi         2175\n",
       "crates.io    1206\n",
       "rubygems      338\n",
       "packagist     265\n",
       "Name: count, dtype: int64"
      ]
     },
     "execution_count": 6,
     "metadata": {},
     "output_type": "execute_result"
    }
   ],
   "source": [
    "label_df['Ecosystem'].value_counts()"
   ]
  },
  {
   "cell_type": "code",
   "execution_count": 19,
   "metadata": {},
   "outputs": [
    {
     "data": {
      "text/plain": [
       "9461"
      ]
     },
     "execution_count": 19,
     "metadata": {},
     "output_type": "execute_result"
    }
   ],
   "source": [
    "len(label_df)"
   ]
  },
  {
   "cell_type": "code",
   "execution_count": 7,
   "metadata": {},
   "outputs": [
    {
     "data": {
      "text/plain": [
       "Label\n",
       "0    7499\n",
       "1    1962\n",
       "Name: count, dtype: int64"
      ]
     },
     "execution_count": 7,
     "metadata": {},
     "output_type": "execute_result"
    }
   ],
   "source": [
    "label_df['Label'].value_counts()"
   ]
  },
  {
   "cell_type": "code",
   "execution_count": 10,
   "metadata": {},
   "outputs": [
    {
     "data": {
      "text/plain": [
       "Sub_Label\n",
       "                                1882\n",
       "C2 communication                  64\n",
       "data exfiltration/root shell      11\n",
       "execute malicious commands         4\n",
       "Name: count, dtype: int64"
      ]
     },
     "execution_count": 10,
     "metadata": {},
     "output_type": "execute_result"
    }
   ],
   "source": [
    "label_df['Sub_Label'].value_counts()"
   ]
  },
  {
   "cell_type": "code",
   "execution_count": 12,
   "metadata": {},
   "outputs": [
    {
     "data": {
      "text/plain": [
       "Label\n",
       "0    5\n",
       "1    4\n",
       "Name: Ecosystem, dtype: int64"
      ]
     },
     "execution_count": 12,
     "metadata": {},
     "output_type": "execute_result"
    }
   ],
   "source": [
    "label_df.groupby('Label')['Ecosystem'].nunique()\n"
   ]
  },
  {
   "cell_type": "code",
   "execution_count": 18,
   "metadata": {},
   "outputs": [
    {
     "name": "stdout",
     "output_type": "stream",
     "text": [
      "                      Sub_Label  Ecosystem  Package_Count\n",
      "0                                crates.io              1\n",
      "1                                      npm            800\n",
      "2                                     pypi            812\n",
      "3                                 rubygems            269\n",
      "4              C2 communication        npm             18\n",
      "5              C2 communication       pypi             38\n",
      "6              C2 communication   rubygems              8\n",
      "7  data exfiltration/root shell        npm             11\n",
      "8    execute malicious commands        npm              2\n",
      "9    execute malicious commands       pypi              2\n"
     ]
    }
   ],
   "source": [
    "# Group by 'Labels' and 'Ecosystem', and count the number of packages\n",
    "counts = label_df.groupby(['Sub_Label','Ecosystem']).size().reset_index(name='Package_Count')\n",
    "\n",
    "# Display the result\n",
    "print(counts)"
   ]
  },
  {
   "cell_type": "code",
   "execution_count": 17,
   "metadata": {},
   "outputs": [
    {
     "name": "stdout",
     "output_type": "stream",
     "text": [
      "   Label  Ecosystem  Package_Count\n",
      "0      0  crates.io           1205\n",
      "1      0        npm           4645\n",
      "2      0  packagist            265\n",
      "3      0       pypi           1323\n",
      "4      0   rubygems             61\n",
      "5      1  crates.io              1\n",
      "6      1        npm            832\n",
      "7      1       pypi            852\n",
      "8      1   rubygems            277\n"
     ]
    }
   ],
   "source": [
    "# Group by 'Labels' and 'Ecosystem', and count the number of packages\n",
    "counts = label_df.groupby(['Label','Ecosystem']).size().reset_index(name='Package_Count')\n",
    "\n",
    "# Display the result\n",
    "print(counts)"
   ]
  },
  {
   "cell_type": "code",
   "execution_count": null,
   "metadata": {},
   "outputs": [],
   "source": []
  }
 ],
 "metadata": {
  "kernelspec": {
   "display_name": "Python 3",
   "language": "python",
   "name": "python3"
  },
  "language_info": {
   "codemirror_mode": {
    "name": "ipython",
    "version": 3
   },
   "file_extension": ".py",
   "mimetype": "text/x-python",
   "name": "python",
   "nbconvert_exporter": "python",
   "pygments_lexer": "ipython3",
   "version": "3.10.14"
  }
 },
 "nbformat": 4,
 "nbformat_minor": 2
}
