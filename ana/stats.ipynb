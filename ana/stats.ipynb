{
 "cells": [
  {
   "cell_type": "code",
   "execution_count": 1,
   "metadata": {},
   "outputs": [],
   "source": [
    "import pandas as pd\n",
    "from pathlib import Path"
   ]
  },
  {
   "cell_type": "code",
   "execution_count": 2,
   "metadata": {},
   "outputs": [
    {
     "data": {
      "text/plain": [
       "PosixPath('/Users/zhuoran/Projects/trigger_analyzer/ana')"
      ]
     },
     "execution_count": 2,
     "metadata": {},
     "output_type": "execute_result"
    }
   ],
   "source": [
    "Path.cwd()"
   ]
  },
  {
   "cell_type": "code",
   "execution_count": 3,
   "metadata": {},
   "outputs": [],
   "source": [
    "file_name = Path.cwd().parent.joinpath(\"data\", \"stas\",\"data_metrics.csv\")"
   ]
  },
  {
   "cell_type": "code",
   "execution_count": 4,
   "metadata": {},
   "outputs": [
    {
     "data": {
      "text/html": [
       "<div>\n",
       "<style scoped>\n",
       "    .dataframe tbody tr th:only-of-type {\n",
       "        vertical-align: middle;\n",
       "    }\n",
       "\n",
       "    .dataframe tbody tr th {\n",
       "        vertical-align: top;\n",
       "    }\n",
       "\n",
       "    .dataframe thead th {\n",
       "        text-align: right;\n",
       "    }\n",
       "</style>\n",
       "<table border=\"1\" class=\"dataframe\">\n",
       "  <thead>\n",
       "    <tr style=\"text-align: right;\">\n",
       "      <th></th>\n",
       "      <th>pkg_type</th>\n",
       "      <th>location</th>\n",
       "      <th>function</th>\n",
       "      <th>attack_type</th>\n",
       "      <th>trigger_mechanism</th>\n",
       "      <th>hide</th>\n",
       "    </tr>\n",
       "  </thead>\n",
       "  <tbody>\n",
       "    <tr>\n",
       "      <th>0</th>\n",
       "      <td>pypi</td>\n",
       "      <td>setup</td>\n",
       "      <td>spyware and information stealing</td>\n",
       "      <td>dropper/malware</td>\n",
       "      <td>execute automatically upon download</td>\n",
       "      <td>base64-encoded</td>\n",
       "    </tr>\n",
       "    <tr>\n",
       "      <th>1</th>\n",
       "      <td>pypi</td>\n",
       "      <td>variable names in Chinese</td>\n",
       "      <td>access the clipboard, replay crypto wallet add...</td>\n",
       "      <td>typosquatting</td>\n",
       "      <td>installation</td>\n",
       "      <td>obfuscation</td>\n",
       "    </tr>\n",
       "    <tr>\n",
       "      <th>2</th>\n",
       "      <td>pypi</td>\n",
       "      <td>setup</td>\n",
       "      <td>spyware and information stealing</td>\n",
       "      <td>dropper/malware</td>\n",
       "      <td>execute automatically upon download</td>\n",
       "      <td>base64-encoded</td>\n",
       "    </tr>\n",
       "    <tr>\n",
       "      <th>3</th>\n",
       "      <td>pypi</td>\n",
       "      <td>setup</td>\n",
       "      <td>spyware and information stealing</td>\n",
       "      <td>dropper/malware</td>\n",
       "      <td>execute automatically upon download</td>\n",
       "      <td>base64-encoded</td>\n",
       "    </tr>\n",
       "    <tr>\n",
       "      <th>4</th>\n",
       "      <td>pypi</td>\n",
       "      <td>setup</td>\n",
       "      <td>spyware and information stealing</td>\n",
       "      <td>dropper/malware</td>\n",
       "      <td>execute automatically upon download</td>\n",
       "      <td>base64-encoded</td>\n",
       "    </tr>\n",
       "  </tbody>\n",
       "</table>\n",
       "</div>"
      ],
      "text/plain": [
       "  pkg_type                   location  \\\n",
       "0     pypi                      setup   \n",
       "1     pypi  variable names in Chinese   \n",
       "2     pypi                      setup   \n",
       "3     pypi                      setup   \n",
       "4     pypi                      setup   \n",
       "\n",
       "                                            function      attack_type  \\\n",
       "0                   spyware and information stealing  dropper/malware   \n",
       "1  access the clipboard, replay crypto wallet add...    typosquatting   \n",
       "2                   spyware and information stealing  dropper/malware   \n",
       "3                   spyware and information stealing  dropper/malware   \n",
       "4                   spyware and information stealing  dropper/malware   \n",
       "\n",
       "                     trigger_mechanism            hide  \n",
       "0  execute automatically upon download  base64-encoded  \n",
       "1                         installation     obfuscation  \n",
       "2  execute automatically upon download  base64-encoded  \n",
       "3  execute automatically upon download  base64-encoded  \n",
       "4  execute automatically upon download  base64-encoded  "
      ]
     },
     "execution_count": 4,
     "metadata": {},
     "output_type": "execute_result"
    }
   ],
   "source": [
    "df = pd.read_csv(file_name)\n",
    "df.head()"
   ]
  },
  {
   "cell_type": "code",
   "execution_count": 5,
   "metadata": {},
   "outputs": [
    {
     "data": {
      "text/plain": [
       "pkg_type\n",
       "npm     9766\n",
       "pypi    6487\n",
       "ruby      17\n",
       "rust       2\n",
       "Name: count, dtype: int64"
      ]
     },
     "execution_count": 5,
     "metadata": {},
     "output_type": "execute_result"
    }
   ],
   "source": [
    "df[\"pkg_type\"].value_counts()"
   ]
  },
  {
   "cell_type": "code",
   "execution_count": 6,
   "metadata": {},
   "outputs": [
    {
     "data": {
      "text/plain": [
       "location\n",
       "entrypoint/download                                9179\n",
       "setup                                              5462\n",
       "variable names in Chinese                           900\n",
       "socket or other communication protocols modules     594\n",
       "three inter hooked files                             42\n",
       "functions                                            35\n",
       "requests function                                    10\n",
       "specific function                                     1\n",
       "Name: count, dtype: int64"
      ]
     },
     "execution_count": 6,
     "metadata": {},
     "output_type": "execute_result"
    }
   ],
   "source": [
    "df[\"location\"].value_counts()"
   ]
  },
  {
   "cell_type": "code",
   "execution_count": 7,
   "metadata": {},
   "outputs": [
    {
     "data": {
      "text/plain": [
       "function\n",
       "install powerful malware                                                 9179\n",
       "spyware and information stealing                                         5425\n",
       "access the clipboard, replay crypto wallet address                        900\n",
       "build communication tunnel with C2                                        594\n",
       "steal source code and secrets                                              42\n",
       "gain persistence/exfiltrate host information                               27\n",
       "steal sensitive credentials                                                21\n",
       "multi-stage malware download                                               14\n",
       "information steal/local passwords                                          10\n",
       "download an open source cryptominer/subprocess/steal host information      10\n",
       "download payload                                                            1\n",
       "information gathering                                                       1\n",
       "Name: count, dtype: int64"
      ]
     },
     "execution_count": 7,
     "metadata": {},
     "output_type": "execute_result"
    }
   ],
   "source": [
    "df[\"function\"].value_counts()"
   ]
  },
  {
   "cell_type": "code",
   "execution_count": 8,
   "metadata": {},
   "outputs": [
    {
     "data": {
      "text/plain": [
       "attack_type\n",
       "data exfiltration/root shell        9179\n",
       "dropper/malware                     5425\n",
       "typosquatting                        937\n",
       "C2 communication                     594\n",
       "execute malicious commands            48\n",
       "typosquatting/starjacking             31\n",
       "social engineering/typosquatting      14\n",
       "typosquatting/malware                  1\n",
       "Name: count, dtype: int64"
      ]
     },
     "execution_count": 8,
     "metadata": {},
     "output_type": "execute_result"
    }
   ],
   "source": [
    "df[\"attack_type\"].value_counts()"
   ]
  },
  {
   "cell_type": "code",
   "execution_count": 9,
   "metadata": {},
   "outputs": [
    {
     "data": {
      "text/plain": [
       "trigger_mechanism\n",
       "download or upon installation                        9179\n",
       "execute automatically upon download                  5462\n",
       "installation                                          900\n",
       "running network connection                            577\n",
       "execute upon installation                              42\n",
       "functions called/send message                          21\n",
       "network connection                                     17\n",
       "execute upon installation/asynchronous operations      14\n",
       "launch upon usage                                      10\n",
       "function call/condition/variable configuration          1\n",
       "Name: count, dtype: int64"
      ]
     },
     "execution_count": 9,
     "metadata": {},
     "output_type": "execute_result"
    }
   ],
   "source": [
    "df[\"trigger_mechanism\"].value_counts()"
   ]
  },
  {
   "cell_type": "code",
   "execution_count": 10,
   "metadata": {},
   "outputs": [
    {
     "data": {
      "text/plain": [
       "hide\n",
       "base64-encoded                          5425\n",
       "obfuscation                              900\n",
       "split payloads                            42\n",
       "steganography/obfuscation                 27\n",
       "base64-encoded/embedded in functions      21\n",
       "split payloads/encoding                   14\n",
       "Name: count, dtype: int64"
      ]
     },
     "execution_count": 10,
     "metadata": {},
     "output_type": "execute_result"
    }
   ],
   "source": [
    "df[\"hide\"].value_counts()"
   ]
  },
  {
   "cell_type": "code",
   "execution_count": null,
   "metadata": {},
   "outputs": [],
   "source": []
  },
  {
   "cell_type": "code",
   "execution_count": null,
   "metadata": {},
   "outputs": [],
   "source": []
  }
 ],
 "metadata": {
  "kernelspec": {
   "display_name": "Python 3",
   "language": "python",
   "name": "python3"
  },
  "language_info": {
   "codemirror_mode": {
    "name": "ipython",
    "version": 3
   },
   "file_extension": ".py",
   "mimetype": "text/x-python",
   "name": "python",
   "nbconvert_exporter": "python",
   "pygments_lexer": "ipython3",
   "version": "3.9.6"
  }
 },
 "nbformat": 4,
 "nbformat_minor": 2
}
