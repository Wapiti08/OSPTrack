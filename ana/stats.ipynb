{
 "cells": [
  {
   "cell_type": "markdown",
   "metadata": {},
   "source": [
    "calculate how many group, the number of vulnerabilities under every group, the total statistics of vuls --- serve for deployment of detection\n",
    "\n",
    "collect the information about:\n",
    "- type, location, function, attack_type, trigger_mechanism, cwe/cve"
   ]
  },
  {
   "cell_type": "code",
   "execution_count": 1,
   "metadata": {},
   "outputs": [],
   "source": [
    "from pathlib import Path\n",
    "import pandas as pd\n",
    "import json"
   ]
  },
  {
   "cell_type": "code",
   "execution_count": null,
   "metadata": {},
   "outputs": [],
   "source": [
    "# define process for npm\n",
    "def load_json_file(json_file: Path) -> json:\n",
    "    with json_file.open(\"r\") as fr:\n",
    "        return json.load(fr)"
   ]
  },
  {
   "cell_type": "code",
   "execution_count": null,
   "metadata": {},
   "outputs": [],
   "source": [
    "\n",
    "def npm_json_process(json_file: Path):\n",
    "    data = load_json_file(json_file)\n",
    "    type = \"npm\"\n",
    "    desc = data['details']\n",
    "    if \"fully compromised\" in desc:\n",
    "        attack_type=\"data exfiltration/root shell\"\n",
    "        function='install powerful malware'\n",
    "        cwe=\"CWE-506\"\n",
    "        trigger_mechanism = \"download or running\"\n",
    "        location=\"entrypoint/download\"\n",
    "    else:\n",
    "        print(desc)\n",
    "    hide='N/A'\n",
    "    return type, location, function, attack_type, trigger_mechanism, hide, cwe\n",
    "\n",
    "\n",
    "# define process for ruby\n",
    "def ruby_json_process(json_file: Path):\n",
    "\n",
    "\n",
    "\n",
    "# define process for rust\n",
    "def rust_json_process(json_file: Path):\n",
    "    data = load_json_file(json_file)\n",
    "\n",
    "    type = \"Rust\"\n",
    "    desc = data['details']\n",
    "    if 'typosquat' in desc and \"malware\" in desc:\n",
    "        # malware inside description --- typosquatting\n",
    "        attack_type=\"typosquatting/malware\"\n",
    "        function='download payload'\n",
    "    elif \"communicate\" in des and \"domain\" in desc:\n",
    "        attack_type=\"C2 communication\" \n",
    "        function='build communication tunnel with C2'\n",
    "\n",
    "    if data['id'] == \"MAL-2022-1\":\n",
    "        trigger_mechanism=\"function call/condition/variable configuration\"\n",
    "        location='specific function'\n",
    "\n",
    "    if data['id'] == \"MAL-2023-8429\":\n",
    "        trigger_mechanism=\"running network connection\"\n",
    "        location='socket or network modules'\n",
    "    cwe ='N/A'\n",
    "    hide='N/A'\n",
    "    return type, location, function, attack_type, trigger_mechanism, hide, cwe\n",
    "\n",
    "# define process for public articles\n"
   ]
  },
  {
   "cell_type": "code",
   "execution_count": null,
   "metadata": {},
   "outputs": [],
   "source": [
    "# define process for pypi\n",
    "def pypi_json_process(json_file: Path):\n",
    "    data = load_json_file(json_file)\n",
    "    type = \"pypi\"\n",
    "    desc = data[\"details\"]\n",
    "    if \"extension\" in desc and \"crypto\" in desc and \"clipboard\" in desc:\n",
    "        attack_type=\"typosquatting\"\n",
    "        function=\"access the clipboard, replay crypto wallet address\"\n",
    "        hide=\"obfuscation\"\n",
    "        cwe=\"N/A\"\n",
    "        trigger_mechanism=\"installation\"\n",
    "        location=\"variable names in Chinese\"\n",
    "\n",
    "    elif \"spyware\" in desc and \"information\" in desc:\n",
    "        \n"
   ]
  },
  {
   "cell_type": "code",
   "execution_count": null,
   "metadata": {},
   "outputs": [],
   "source": [
    "# iterate the json under per folder\n",
    "data_folder = Path.cwd().parent.joinpath(\"malicious\")\n",
    "for number, json_file in enumerate(data_folder.rglob(\"*.json\")):"
   ]
  },
  {
   "cell_type": "code",
   "execution_count": null,
   "metadata": {},
   "outputs": [],
   "source": []
  }
 ],
 "metadata": {
  "kernelspec": {
   "display_name": "Python 3",
   "language": "python",
   "name": "python3"
  },
  "language_info": {
   "codemirror_mode": {
    "name": "ipython",
    "version": 3
   },
   "file_extension": ".py",
   "mimetype": "text/x-python",
   "name": "python",
   "nbconvert_exporter": "python",
   "pygments_lexer": "ipython3",
   "version": "3.9.6"
  }
 },
 "nbformat": 4,
 "nbformat_minor": 2
}
