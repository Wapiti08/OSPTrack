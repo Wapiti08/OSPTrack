{
 "cells": [
  {
   "cell_type": "markdown",
   "metadata": {},
   "source": [
    "calculate how many group, the number of vulnerabilities under every group, the total statistics of vuls --- serve for deployment of detection\n",
    "\n",
    "collect the information about:\n",
    "    - pkg_type: the name of ecosystem\n",
    "    - location: whether the malicious code lies in\n",
    "    - function: what is the function of malicious code\n",
    "    - attack_type: how to define this type of attack in the scope of supply chain\n",
    "    - trigger_mechanism: how the malicious code is triggerred\n",
    "    - hide: how the malicious code hides itself to evade detection\n"
   ]
  },
  {
   "cell_type": "code",
   "execution_count": 1,
   "metadata": {},
   "outputs": [],
   "source": [
    "from pathlib import Path\n",
    "import pandas as pd\n",
    "import json"
   ]
  },
  {
   "cell_type": "code",
   "execution_count": 2,
   "metadata": {},
   "outputs": [],
   "source": [
    "# define process for npm\n",
    "def load_json_file(json_file: Path) -> json:\n",
    "    with json_file.open(\"r\") as fr:\n",
    "        return json.load(fr)\n",
    "    \n",
    "def type_check(json_file: Path) -> str:\n",
    "    with json_file.open(\"r\") as fr:\n",
    "        aff = json.load(fr)['affected'][0]\n",
    "        ecosystem = aff['package']['ecosystem']\n",
    "    pkg_type = \"\"\n",
    "    if \"PyPI\" in ecosystem:\n",
    "        pkg_type = 'python'\n",
    "    elif \"crates\" in ecosystem:\n",
    "        pkg_type = 'rust'\n",
    "    elif \"npm\" in ecosystem:\n",
    "        pkg_type = 'npm'\n",
    "    elif \"RubyGems\" in ecosystem:\n",
    "        pkg_type = 'ruby'\n",
    "    else:\n",
    "        print(\"{} has not been included\".format(ecosystem))\n",
    "\n",
    "    return pkg_type"
   ]
  },
  {
   "cell_type": "code",
   "execution_count": 3,
   "metadata": {},
   "outputs": [],
   "source": [
    "\n",
    "def npm_json_process(json_file: Path, ecosystem):\n",
    "    data = load_json_file(json_file)\n",
    "    pkg_type = ecosystem\n",
    "    desc = data['details']\n",
    "    if \"fully compromised\" in desc:\n",
    "        attack_type=\"data exfiltration/root shell\"\n",
    "        function='install powerful malware'\n",
    "        trigger_mechanism = \"download or running\"\n",
    "        location=\"entrypoint/download\"\n",
    "    else:\n",
    "        print(\"There is no process for this malicious package\")\n",
    "        print(desc)\n",
    "    hide='N/A'\n",
    "    return pkg_type, location, function, attack_type, trigger_mechanism, hide\n",
    "\n",
    "\n",
    "# define process for ruby\n",
    "def ruby_json_process(json_file: Path, ecosystem):\n",
    "    data = load_json_file(json_file)\n",
    "    pkg_type = ecosystem\n",
    "    desc = data['details']\n",
    "    if 'communicate' in desc and \"domain\" in desc:\n",
    "        attack_type=\"C2 communication\"\n",
    "        function='build communication tunnel with C2'\n",
    "        trigger_mechanism=\"network connection\"\n",
    "        location=\"socket or other communication protocols modules\"\n",
    "    else:\n",
    "        print(\"There is no process for this malicious package\")\n",
    "        print(desc)\n",
    "    hide=\"N/A\"\n",
    "    return pkg_type, location, function, attack_type, trigger_mechanism, hide\n",
    "\n",
    "\n",
    "# define process for rust\n",
    "def rust_json_process(json_file: Path, ecosystem):\n",
    "    data = load_json_file(json_file)\n",
    "    pkg_type = ecosystem\n",
    "    desc = data['details']\n",
    "    if 'typosquat' in desc and \"malware\" in desc:\n",
    "        # malware inside description --- typosquatting\n",
    "        attack_type=\"typosquatting/malware\"\n",
    "        function='download payload'\n",
    "    elif \"communicate\" in desc and \"domain\" in desc:\n",
    "        attack_type=\"C2 communication\" \n",
    "        function='build communication tunnel with C2'\n",
    "    else:\n",
    "        print(\"There is no process for this malicious package\")\n",
    "        print(desc)\n",
    "\n",
    "    if data['id'] == \"MAL-2022-1\":\n",
    "        trigger_mechanism=\"function call/condition/variable configuration\"\n",
    "        location='specific function'\n",
    "\n",
    "    if data['id'] == \"MAL-2023-8429\":\n",
    "        trigger_mechanism=\"running network connection\"\n",
    "        location='socket or other communication protocols modules'\n",
    "    hide='N/A'\n",
    "    return pkg_type, location, function, attack_type, trigger_mechanism, hide\n",
    "\n",
    "# define process for public articles\n"
   ]
  },
  {
   "cell_type": "code",
   "execution_count": 12,
   "metadata": {},
   "outputs": [],
   "source": [
    "# define process for pypi\n",
    "def pypi_json_process(json_file: Path, ecosystem):\n",
    "    data = load_json_file(json_file)\n",
    "    pkg_type = ecosystem\n",
    "    desc = data[\"details\"]\n",
    "    if \"extension\" in desc and \"crypto\" in desc and \"clipboard\" in desc:\n",
    "        attack_type=\"typosquatting\"\n",
    "        function=\"access the clipboard, replay crypto wallet address\"\n",
    "        hide=\"obfuscation\"\n",
    "        trigger_mechanism=\"installation\"\n",
    "        location=\"variable names in Chinese\"\n",
    "\n",
    "    elif \"spyware\" in desc and \"information\" in desc:\n",
    "        attack_type=\"dropper/malware\"\n",
    "        function=\"spyware and information stealing\"\n",
    "        hide=\"base64-encoded\"\n",
    "        trigger_mechanism=\"execute automatically upon download\"\n",
    "        location=\"setup\"\n",
    "\n",
    "    elif \"Alibaba\" in desc and \"AWS\" in desc:\n",
    "        attack_type=\"typosquatting/starjacking\"\n",
    "        function=\"steal sensitive credentials\"\n",
    "        hide=\"base64-encoded/embedded in functions\"\n",
    "        trigger_mechanism=\"functions called/send message\"\n",
    "        location=\"functions\"\n",
    "\n",
    "    elif \"communicate\" in desc and \"domain\" in desc:\n",
    "        attack_type=\"C2 communication\" \n",
    "        function='build communication tunnel with C2'\n",
    "        trigger_mechanism=\"running network connection\"\n",
    "        location='socket or other communication protocols modules'\n",
    "        hide=\"N/A\"\n",
    "\n",
    "    elif \"Steganography\" in desc:\n",
    "        attack_type=\"typosquatting\" \n",
    "        function='gain persistence/exfiltrate host information'\n",
    "        trigger_mechanism=\"execute automatically upon download\"\n",
    "        location='setup'\n",
    "        hide=\"steganography/obfuscation\"\n",
    "\n",
    "    elif \"Check Point\" in desc:\n",
    "        attack_type=\"typosquatting\"\n",
    "        function=\"information steal/local passwords\"\n",
    "        trigger_mechanism=\"execute automatically upon download\"\n",
    "        location=\"setup\"\n",
    "        hide=\"N/A\"\n",
    "    \n",
    "    else:\n",
    "        print(\"There is no process for this malicious package\")\n",
    "        print(desc)\n",
    "        print(json_file)\n",
    "    return pkg_type, location, function, attack_type, trigger_mechanism, hide\n"
   ]
  },
  {
   "cell_type": "code",
   "execution_count": 13,
   "metadata": {},
   "outputs": [
    {
     "name": "stdout",
     "output_type": "stream",
     "text": [
      "There is no process for this malicious package\n",
      "\n",
      "---\n",
      "_-= Per source details. Do not edit below this line.=-_\n",
      "\n",
      "## Source: ghsa-malware (d88aee4a8e480e3f09eb95c41c77cb679c144faacd48d7829c401276d21a8f38)\n",
      "Security researchers at Check Point Research discovered a malicious package called `pyg-utils`. PyPI has since removed `pyg-utils`.\n",
      "\n",
      "/Users/zhuoran/Projects/trigger_analyzer/data/malicious/pypi/pyg-utils/MAL-2022-7425.json\n"
     ]
    },
    {
     "ename": "UnboundLocalError",
     "evalue": "local variable 'location' referenced before assignment",
     "output_type": "error",
     "traceback": [
      "\u001b[0;31m---------------------------------------------------------------------------\u001b[0m",
      "\u001b[0;31mUnboundLocalError\u001b[0m                         Traceback (most recent call last)",
      "Cell \u001b[0;32mIn[13], line 21\u001b[0m\n\u001b[1;32m     19\u001b[0m     results \u001b[38;5;241m=\u001b[39m rust_json_process(json_file, \u001b[38;5;124m'\u001b[39m\u001b[38;5;124mrust\u001b[39m\u001b[38;5;124m'\u001b[39m)\n\u001b[1;32m     20\u001b[0m \u001b[38;5;28;01melif\u001b[39;00m ecosystem \u001b[38;5;241m==\u001b[39m \u001b[38;5;124m\"\u001b[39m\u001b[38;5;124mpypi\u001b[39m\u001b[38;5;124m\"\u001b[39m:\n\u001b[0;32m---> 21\u001b[0m     results \u001b[38;5;241m=\u001b[39m \u001b[43mpypi_json_process\u001b[49m\u001b[43m(\u001b[49m\u001b[43mjson_file\u001b[49m\u001b[43m,\u001b[49m\u001b[43m \u001b[49m\u001b[43mecosystem\u001b[49m\u001b[43m)\u001b[49m\n\u001b[1;32m     22\u001b[0m \u001b[38;5;28;01melif\u001b[39;00m ecosystem \u001b[38;5;241m==\u001b[39m \u001b[38;5;124m'\u001b[39m\u001b[38;5;124mrubygems\u001b[39m\u001b[38;5;124m'\u001b[39m:\n\u001b[1;32m     23\u001b[0m     results \u001b[38;5;241m=\u001b[39m ruby_json_process(json_file, \u001b[38;5;124m'\u001b[39m\u001b[38;5;124mruby\u001b[39m\u001b[38;5;124m'\u001b[39m)\n",
      "Cell \u001b[0;32mIn[12], line 52\u001b[0m, in \u001b[0;36mpypi_json_process\u001b[0;34m(json_file, ecosystem)\u001b[0m\n\u001b[1;32m     50\u001b[0m     \u001b[38;5;28mprint\u001b[39m(desc)\n\u001b[1;32m     51\u001b[0m     \u001b[38;5;28mprint\u001b[39m(json_file)\n\u001b[0;32m---> 52\u001b[0m \u001b[38;5;28;01mreturn\u001b[39;00m pkg_type, \u001b[43mlocation\u001b[49m, function, attack_type, trigger_mechanism, hide\n",
      "\u001b[0;31mUnboundLocalError\u001b[0m: local variable 'location' referenced before assignment"
     ]
    }
   ],
   "source": [
    "# iterate the json under per folder\n",
    "data_folder = Path.cwd().parent.joinpath(\"data\",\"malicious\")\n",
    "\n",
    "data_metrics = {\n",
    "    \"pkg_type\": [],\n",
    "    \"location\": [],\n",
    "    \"function\": [],\n",
    "    \"attack_type\":[],\n",
    "    \"trigger_mechanism\":[],\n",
    "    \"hide\":[]\n",
    "}\n",
    "\n",
    "\n",
    "for number, json_file in enumerate(data_folder.rglob(\"**/*.json\")):\n",
    "    ecosystem = json_file.parents[1].name\n",
    "    if ecosystem == 'npm':\n",
    "        results = npm_json_process(json_file, ecosystem)\n",
    "    elif ecosystem == 'crates-io':\n",
    "        results = rust_json_process(json_file, 'rust')\n",
    "    elif ecosystem == \"pypi\":\n",
    "        results = pypi_json_process(json_file, ecosystem)\n",
    "    elif ecosystem == 'rubygems':\n",
    "        results = ruby_json_process(json_file, 'ruby')\n",
    "    else:\n",
    "        print(\"there is no available package process for {}\".format(ecosystem))\n",
    "    data_metrics['pkg_type'].append(results[0])\n",
    "    data_metrics['location'].append(results[1])\n",
    "    data_metrics['function'].append(results[2])\n",
    "    data_metrics['attack_type'].append(results[3])\n",
    "    data_metrics['trigger_mechanism'].append(results[4])\n",
    "    data_metrics['hide'].append(results[5])\n"
   ]
  },
  {
   "cell_type": "code",
   "execution_count": 6,
   "metadata": {},
   "outputs": [
    {
     "data": {
      "text/plain": [
       "{'pkg_type': [],\n",
       " 'location': [],\n",
       " 'function': [],\n",
       " 'attack_type': [],\n",
       " 'trigger_mechanism': [],\n",
       " 'hide': []}"
      ]
     },
     "execution_count": 6,
     "metadata": {},
     "output_type": "execute_result"
    }
   ],
   "source": [
    "data_metrics"
   ]
  },
  {
   "cell_type": "code",
   "execution_count": null,
   "metadata": {},
   "outputs": [],
   "source": []
  }
 ],
 "metadata": {
  "kernelspec": {
   "display_name": "Python 3",
   "language": "python",
   "name": "python3"
  },
  "language_info": {
   "codemirror_mode": {
    "name": "ipython",
    "version": 3
   },
   "file_extension": ".py",
   "mimetype": "text/x-python",
   "name": "python",
   "nbconvert_exporter": "python",
   "pygments_lexer": "ipython3",
   "version": "3.9.6"
  }
 },
 "nbformat": 4,
 "nbformat_minor": 2
}
